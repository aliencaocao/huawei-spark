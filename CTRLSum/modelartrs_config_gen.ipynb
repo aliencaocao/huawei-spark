{
 "cells": [
  {
   "cell_type": "code",
   "execution_count": 1,
   "outputs": [],
   "source": [
    "# Generate sample request and response for generation of JSON schema\n",
    "\n",
    "import json\n",
    "\n",
    "request = {'source': 'hello world', 'query': 'is the world ok?', 'prompt': 'the world is: '}\n",
    "response = {'answer': 'yes'}\n",
    "\n",
    "with open('qna_request_sample.json', 'w') as f:\n",
    "    json.dump(request, f)\n",
    "\n",
    "with open('qna_response_sample.json', 'w') as f:\n",
    "    json.dump(response, f)\n",
    "\n",
    "with open('qna_request_schema.json', 'r') as f:\n",
    "    qna_request_schema = json.load(f)\n",
    "\n",
    "with open('qna_response_schema.json', 'r') as f:\n",
    "    qna_response_schema = json.load(f)\n",
    "\n",
    "with open('tagger_request_schema.json', 'r') as f:\n",
    "    tagger_request_schema = json.load(f)\n",
    "\n",
    "with open('tagger_response_schema.json', 'r') as f:\n",
    "    tagger_response_schema = json.load(f)"
   ],
   "metadata": {
    "collapsed": false,
    "pycharm": {
     "name": "#%%\n"
    }
   }
  },
  {
   "cell_type": "code",
   "execution_count": null,
   "outputs": [],
   "source": [
    "# Generate config json for modelarts custom image for CTRLSum\n",
    "\n",
    "import json\n",
    "config = dict()\n",
    "config['model_algorithm'] = 'Text_Summarization'\n",
    "config['model_type'] = 'Image'\n",
    "\n",
    "qna_request_config = {'Content-type': 'application/json', 'data': qna_request_schema}\n",
    "qna_response_config = {'Content-type': 'application/json', 'data': qna_response_schema}\n",
    "tagger_request_config = {'Content-type': 'application/json', 'data': tagger_request_schema}\n",
    "tagger_response_config = {'Content-type': 'application/json', 'data': tagger_response_schema}\n",
    "config['apis'] = [{'protocol': 'https', 'url': '/qna', 'method': 'POST', 'request': qna_request_config, 'response': qna_response_config},\n",
    "                  {'protocol': 'https', 'url': '/tagger', 'method': 'POST', 'request': tagger_request_config, 'response': tagger_response_config}]\n",
    "config['health'] = {'url': '/health', 'timeout_seconds': '10'}\n",
    "\n",
    "with open('ctrlsum_modelarts_config.json', 'w') as f:\n",
    "    json.dump(config, f, indent=4)"
   ],
   "metadata": {
    "collapsed": false,
    "pycharm": {
     "name": "#%%\n"
    }
   }
  }
 ],
 "metadata": {
  "kernelspec": {
   "display_name": "Python 3",
   "language": "python",
   "name": "python3"
  },
  "language_info": {
   "codemirror_mode": {
    "name": "ipython",
    "version": 2
   },
   "file_extension": ".py",
   "mimetype": "text/x-python",
   "name": "python",
   "nbconvert_exporter": "python",
   "pygments_lexer": "ipython2",
   "version": "2.7.6"
  }
 },
 "nbformat": 4,
 "nbformat_minor": 0
}