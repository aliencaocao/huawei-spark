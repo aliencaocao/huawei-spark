{
 "cells": [
  {
   "cell_type": "code",
   "execution_count": 20,
   "outputs": [],
   "source": [
    "# Copyright (c) 2021, Hyunwoong Ko. Modified 2022 by Billy Cao.\n",
    "#\n",
    "# Licensed under the Apache License, Version 2.0 (the \"License\");\n",
    "# you may not use this file except in compliance with the License.\n",
    "# You may obtain a copy of the License at\n",
    "#\n",
    "#     http://www.apache.org/licenses/LICENSE-2.0\n",
    "#\n",
    "# Unless required by applicable law or agreed to in writing, software\n",
    "# distributed under the License is distributed on an \"AS IS\" BASIS,\n",
    "# WITHOUT WARRANTIES OR CONDITIONS OF ANY KIND, either express or implied.\n",
    "# See the License for the specific language governing permissions and\n",
    "# limitations under the License.\n",
    "import json\n",
    "import torch\n",
    "import numpy as np\n",
    "from transformers import AutoModelForSeq2SeqLM, BartTokenizer\n",
    "from flask import Flask, request, jsonify\n",
    "import onnx\n",
    "from onnxruntime import InferenceSession\n",
    "\n",
    "\n",
    "session = InferenceSession(\"onnx_model/model.onnx\", providers=['CUDAExecutionProvider', 'CPUExecutionProvider'])\n",
    "model = onnx.load(\"onnx_model/model.onnx\")\n",
    "tokenizer = BartTokenizer.from_pretrained('ctrlsum-cnndm')\n",
    "\n",
    "source_text = \"Lenovo Legion 5 Pro Gen 6 laptop. CPU: Ryzen 7 5800H, GPU: RTX 3070 (8 GB VRAM), memory: 32GB, storage: 512GB PCIe NVMe. Contact me at +65 9127 3842 or yeet@somemail.com.\"\n",
    "prompt = \"The seller's phone number is:\"\n",
    "input_text = f\"{prompt} => {source_text}\"\n",
    "\n",
    "inputs = tokenizer(input_text, return_tensors=\"np\")\n",
    "decoder_inputs = tokenizer(prompt, return_tensors=\"np\")\n",
    "outputs = session.run(output_names=[\"last_hidden_state\"], input_feed={\"input_ids\": inputs[\"input_ids\"].astype(np.int64), \"attention_mask\": inputs[\"attention_mask\"].astype(np.int64), \"decoder_input_ids\": decoder_inputs['input_ids'].astype(np.int64), \"decoder_attention_mask\": decoder_inputs[\"attention_mask\"].astype(np.int64)})\n"
   ],
   "metadata": {
    "collapsed": false,
    "pycharm": {
     "name": "#%%\n"
    }
   }
  }
 ],
 "metadata": {
  "kernelspec": {
   "display_name": "Python 3",
   "language": "python",
   "name": "python3"
  },
  "language_info": {
   "codemirror_mode": {
    "name": "ipython",
    "version": 2
   },
   "file_extension": ".py",
   "mimetype": "text/x-python",
   "name": "python",
   "nbconvert_exporter": "python",
   "pygments_lexer": "ipython2",
   "version": "2.7.6"
  }
 },
 "nbformat": 4,
 "nbformat_minor": 0
}