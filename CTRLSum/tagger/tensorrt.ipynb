{
 "cells": [
  {
   "cell_type": "code",
   "execution_count": 17,
   "outputs": [],
   "source": [
    "# Copyright (c) 2021, Hyunwoong Ko. Modified 2022 by Billy Cao.\n",
    "#\n",
    "# Licensed under the Apache License, Version 2.0 (the \"License\");\n",
    "# you may not use this file except in compliance with the License.\n",
    "# You may obtain a copy of the License at\n",
    "#\n",
    "#     http://www.apache.org/licenses/LICENSE-2.0\n",
    "#\n",
    "# Unless required by applicable law or agreed to in writing, software\n",
    "# distributed under the License is distributed on an \"AS IS\" BASIS,\n",
    "# WITHOUT WARRANTIES OR CONDITIONS OF ANY KIND, either express or implied.\n",
    "# See the License for the specific language governing permissions and\n",
    "# limitations under the License.\n",
    "import json\n",
    "import torch\n",
    "import numpy as np\n",
    "from transformers import AutoModelForSeq2SeqLM, AutoTokenizer\n",
    "from flask import Flask, request, jsonify\n",
    "import onnx\n",
    "from onnxruntime import InferenceSession\n",
    "\n",
    "\n",
    "session = InferenceSession(\"ctrl-sum/onnx_model/model.onnx\", providers=['CUDAExecutionProvider'])\n",
    "model = onnx.load(\"ctrl-sum/onnx_model/model.onnx\")\n",
    "tokenizer = AutoTokenizer.from_pretrained('bert-large-cased')\n",
    "\n",
    "source_text = \"the sky is blue\"\n",
    "\n",
    "inputs = tokenizer(source_text, return_tensors=\"np\")\n",
    "inputs = {k: v.astype(np.int64) for k, v in inputs.items()}\n",
    "outputs = session.run(output_names=[\"logits\"], input_feed={'input_ids': inputs['input_ids'], 'attention_mask': inputs['attention_mask'], 'token_type_ids': inputs['token_type_ids']})"
   ],
   "metadata": {
    "collapsed": false,
    "pycharm": {
     "name": "#%%\n"
    }
   }
  },
  {
   "cell_type": "code",
   "execution_count": 18,
   "outputs": [],
   "source": [
    "import scipy.special\n",
    "labels = [\"0\", \"1\"]\n",
    "label_map = {i: label for i, label in enumerate(labels)}\n",
    "num_labels = len(labels)\n",
    "\n",
    "def align_predictions(predictions):\n",
    "    label2id = {label: i for i, label in enumerate(labels)}\n",
    "    preds = np.argmax(predictions, axis=2)\n",
    "    predictions = scipy.special.softmax(predictions, axis=2)\n",
    "    batch_size, seq_len = preds.shape\n",
    "    preds_prob_list = []\n",
    "    for j in range(seq_len):\n",
    "        preds_prob_list.append(predictions[0][j][label2id['1']])\n",
    "\n",
    "    return preds_prob_list[1:-1]  # remove start and end token\n"
   ],
   "metadata": {
    "collapsed": false,
    "pycharm": {
     "name": "#%%\n"
    }
   }
  },
  {
   "cell_type": "code",
   "execution_count": 19,
   "outputs": [],
   "source": [
    "probs = align_predictions(outputs[0])\n",
    "keywords = []\n",
    "for i in range(len(probs)):\n",
    "    if probs[i] > 0.03:\n",
    "        keywords.append(source_text.split()[i])"
   ],
   "metadata": {
    "collapsed": false,
    "pycharm": {
     "name": "#%%\n"
    }
   }
  }
 ],
 "metadata": {
  "kernelspec": {
   "display_name": "Python 3",
   "language": "python",
   "name": "python3"
  },
  "language_info": {
   "codemirror_mode": {
    "name": "ipython",
    "version": 2
   },
   "file_extension": ".py",
   "mimetype": "text/x-python",
   "name": "python",
   "nbconvert_exporter": "python",
   "pygments_lexer": "ipython2",
   "version": "2.7.6"
  }
 },
 "nbformat": 4,
 "nbformat_minor": 0
}