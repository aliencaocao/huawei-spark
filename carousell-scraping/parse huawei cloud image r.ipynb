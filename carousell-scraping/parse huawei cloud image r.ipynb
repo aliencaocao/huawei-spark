{
 "cells": [
  {
   "cell_type": "code",
   "execution_count": 6,
   "metadata": {
    "collapsed": true
   },
   "outputs": [
    {
     "name": "stdout",
     "output_type": "stream",
     "text": [
      "tag: Person\n",
      "type: Human\n",
      "Detected 2 of this tag\n",
      "Confidence: 92.38\n",
      "Bounding box: height:133.32496056189905, width:117.5866567171537, x:53.134917332575874, y:254.21347984900842\n",
      "Bounding box coordinates: x1y1:(53.134917332575874, 254.21347984900842), x2y2:(170.72157404972958, 254.21347984900842), x3y3:(53.134917332575874, 387.53844041090747), x4y4:(170.72157404972958, 387.53844041090747)\n",
      "Confidence: 90.38\n",
      "Bounding box: height:133.32496056189905, width:117.5866567171537, x:53.134917332575874, y:254.21347984900842\n",
      "Bounding box coordinates: x1y1:(53.134917332575874, 254.21347984900842), x2y2:(170.72157404972958, 254.21347984900842), x3y3:(53.134917332575874, 387.53844041090747), x4y4:(170.72157404972958, 387.53844041090747)\n",
      "tag: Book\n",
      "type: Education\n",
      "Detected 0 of this tag\n",
      "tag: Bed\n",
      "type: Home\n",
      "Detected 1 of this tag\n",
      "Confidence: 92.38\n",
      "Bounding box: height:133.32496056189905, width:117.5866567171537, x:53.134917332575874, y:254.21347984900842\n",
      "Bounding box coordinates: x1y1:(53.134917332575874, 254.21347984900842), x2y2:(170.72157404972958, 254.21347984900842), x3y3:(53.134917332575874, 387.53844041090747), x4y4:(170.72157404972958, 387.53844041090747)\n"
     ]
    }
   ],
   "source": [
    "import json\n",
    "\n",
    "data = json.load(open('huawei_image_r.txt'))\n",
    "data = data['result']['tags']\n",
    "for i in data:\n",
    "    print(f'tag: {i[\"tag\"]}')\n",
    "    print(f'type: {i[\"type\"]}')\n",
    "    instances = i['instances']\n",
    "    print(f'Detected {len(instances)} of this tag')\n",
    "    for j in instances:\n",
    "        print(f'Confidence: {j[\"confidence\"]}')\n",
    "        bounding_box = j['bounding_box']\n",
    "        h = bounding_box[\"height\"]\n",
    "        w = bounding_box[\"width\"]\n",
    "        top_left_x = bounding_box[\"top_left_x\"]\n",
    "        top_left_y = bounding_box[\"top_left_y\"]\n",
    "        print(f'Bounding box: height:{h}, width:{w}, x:{top_left_x}, y:{top_left_y}')\n",
    "        x1, y1 = top_left_x, top_left_y\n",
    "        x2, y2 = top_left_x+w, top_left_y\n",
    "        x3, y3 = top_left_x, top_left_y+h\n",
    "        x4, y4 = top_left_x+w, top_left_y+h\n",
    "        print(f'Bounding box coordinates: x1y1:{x1, y1}, x2y2:{x2, y2}, x3y3:{x3, y3}, x4y4:{x4, y4}')"
   ]
  }
 ],
 "metadata": {
  "kernelspec": {
   "display_name": "Python 3",
   "language": "python",
   "name": "python3"
  },
  "language_info": {
   "codemirror_mode": {
    "name": "ipython",
    "version": 2
   },
   "file_extension": ".py",
   "mimetype": "text/x-python",
   "name": "python",
   "nbconvert_exporter": "python",
   "pygments_lexer": "ipython2",
   "version": "2.7.6"
  }
 },
 "nbformat": 4,
 "nbformat_minor": 0
}