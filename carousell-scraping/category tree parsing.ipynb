{
 "cells": [
  {
   "cell_type": "code",
   "execution_count": 2,
   "metadata": {
    "collapsed": true,
    "pycharm": {
     "name": "#%%\n"
    }
   },
   "outputs": [],
   "source": [
    "import json\n",
    "data = json.load(open('raw_category_tree.json'))['data']\n",
    "data.pop(0)\n",
    "data.pop(3)\n",
    "data.pop(4)\n",
    "data.pop(4)\n",
    "data.pop(6)\n",
    "data.pop(6)\n",
    "data.pop(11)\n",
    "data.pop(11)\n",
    "data.pop(11)\n",
    "data.pop(14)\n",
    "data.pop(18)\n",
    "\n",
    "category_tree = {}\n",
    "for i in data:\n",
    "    category_tree[i['name']] = i['subcategories']\n",
    "    temp = {}\n",
    "    for j in i['subcategories']:\n",
    "        temp[j['name']] = j['subcategories']\n",
    "        temp2 = {}\n",
    "        for k in j['subcategories']:\n",
    "            temp2[k['name']] = k['subcategories']\n",
    "            temp3 = {}\n",
    "            for l in k['subcategories']:\n",
    "                temp3[l['name']] = l['subcategories']\n",
    "            if temp3:\n",
    "                temp2[k['name']] = temp3\n",
    "            else:\n",
    "                temp2[k['name']] = []\n",
    "        if temp2:\n",
    "            temp[j['name']] = temp2\n",
    "        else:\n",
    "            temp[j['name']] = []\n",
    "    if temp:\n",
    "        category_tree[i['name']] = temp\n",
    "    else:\n",
    "        category_tree[i['name']] = []\n",
    "\n",
    "json.dump(category_tree, open('cleaned_category_tree.json', 'w'))"
   ]
  }
 ],
 "metadata": {
  "kernelspec": {
   "display_name": "Python 3",
   "language": "python",
   "name": "python3"
  },
  "language_info": {
   "codemirror_mode": {
    "name": "ipython",
    "version": 2
   },
   "file_extension": ".py",
   "mimetype": "text/x-python",
   "name": "python",
   "nbconvert_exporter": "python",
   "pygments_lexer": "ipython2",
   "version": "2.7.6"
  }
 },
 "nbformat": 4,
 "nbformat_minor": 0
}