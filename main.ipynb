{
 "cells": [
  {
   "cell_type": "code",
   "execution_count": null,
   "metadata": {
    "collapsed": true
   },
   "outputs": [],
   "source": [
    "import tensorflow as tf\n",
    "from tensorflow.keras import models, Model, mixed_precision\n",
    "from tensorflow.keras.layers import *\n",
    "from tensorflow.keras.utils import plot_model\n",
    "from tensorflow.keras.preprocessing.text import Tokenizer\n",
    "from tensorflow.keras.preprocessing.sequence import pad_sequences\n",
    "import tensorflow_hub as hub\n",
    "import tensorflow_text as text\n",
    "import numpy as np\n",
    "import pandas as pd\n",
    "import json\n",
    "import os\n",
    "import re\n",
    "\n",
    "physical_devices = tf.config.experimental.list_physical_devices('GPU')\n",
    "config = tf.config.experimental.set_memory_growth(physical_devices[0], True)\n",
    "mixed_precision.set_global_policy('mixed_float16')\n",
    "print(f'Running on Python {sys.version}, Tensorflow {tf.__version__}.')"
   ]
  },
  {
   "cell_type": "code",
   "execution_count": null,
   "outputs": [],
   "source": [
    "# Load data\n",
    "with open('data.json', 'r') as f:\n",
    "    data = json.load(f)\n",
    "\n",
    "text_data = []\n",
    "for i in data:\n",
    "    text_data.append(i['title'])\n",
    "    text_data.append(i['desc'])\n",
    "title_data = data['title']\n",
    "# remove all items where more than 50% of the text is not english"
   ],
   "metadata": {
    "collapsed": false,
    "pycharm": {
     "name": "#%%\n"
    }
   }
  },
  {
   "cell_type": "code",
   "execution_count": null,
   "outputs": [],
   "source": [
    "# model\n",
    "title_input = Input(shape=(), name='title_input', dtype=tf.string)\n",
    "category_input = Input(shape=(), name='category_input', dtype=tf.string)\n",
    "img_input = Input(shape=(224, 224, 3), name='img_input', dtype=tf.float32)\n",
    "\n",
    "\n",
    "preprocessing_layer = hub.KerasLayer('https://tfhub.dev/tensorflow/bert_en_uncased_preprocess/3')\n",
    "title_embeddings = preprocessing_layer(title_input)\n",
    "category_embeddings = preprocessing_layer(category_input)\n",
    "# extract image features\n",
    "\n",
    "x = layers.concatenate([title_embeddings, category_embeddings, img_features])\n",
    "description_output = Dense(vocab_size, name='description_output')(x)\n",
    "\n",
    "model = Model(inputs=[title_input, category_input, img_input], outputs=[description_output])\n",
    "plot_model(model, \"model.png\", show_shapes=True)\n",
    "model.compile(\n",
    "    optimizer=tf.keras.optimizers.Adam(1e-3),\n",
    "    loss=[tf.keras.losses.SparseCategoricalCrossentropy(from_logits=True)],\n",
    ")\n",
    "\n",
    "callbacks = [\n",
    "    tf.keras.callbacks.EarlyStopping(monitor='val_accuracy', min_delta=0, patience=13, verbose=1,\n",
    "                                     mode='auto', baseline=None, restore_best_weights=True),\n",
    "    tf.keras.callbacks.ReduceLROnPlateau(monitor='val_accuracy', factor=0.1, patience=10, verbose=1)\n",
    "]\n",
    "history = model.fit({\"title_input\": title, \"category_input\": category, \"img_input\": img}, {\"description_output\": description},\n",
    "                    batch_size=32, epochs=10, callbacks=callbacks, use_multiprocessing=True, verbose=1)"
   ],
   "metadata": {
    "collapsed": false,
    "pycharm": {
     "name": "#%%\n"
    }
   }
  }
 ],
 "metadata": {
  "kernelspec": {
   "display_name": "Python 3",
   "language": "python",
   "name": "python3"
  },
  "language_info": {
   "codemirror_mode": {
    "name": "ipython",
    "version": 2
   },
   "file_extension": ".py",
   "mimetype": "text/x-python",
   "name": "python",
   "nbconvert_exporter": "python",
   "pygments_lexer": "ipython2",
   "version": "2.7.6"
  }
 },
 "nbformat": 4,
 "nbformat_minor": 0
}